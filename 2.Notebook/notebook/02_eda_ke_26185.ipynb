{
 "cells": [
  {
   "cell_type": "markdown",
   "id": "f3c1f2f5",
   "metadata": {},
   "source": [
    "# EDA\n",
    "\n",
    "- RMSE : 26185.4795"
   ]
  },
  {
   "cell_type": "code",
   "execution_count": null,
   "id": "0567f2b5",
   "metadata": {},
   "outputs": [],
   "source": [
    "!pip install eli5==0.13.0\n",
    "\n",
    "# 한글 폰트 사용을 위한 라이브러리입니다.\n",
    "!apt-get install -y fonts-nanum"
   ]
  },
  {
   "cell_type": "code",
   "execution_count": null,
   "id": "9f7eeb94",
   "metadata": {},
   "outputs": [],
   "source": [
    "# visualization\n",
    "import matplotlib.pyplot as plt\n",
    "import matplotlib.font_manager as fm\n",
    "fe = fm.FontEntry(\n",
    "    fname=r'/usr/share/fonts/truetype/nanum/NanumGothic.ttf', # ttf 파일이 저장되어 있는 경로\n",
    "    name='NanumBarunGothic')                        # 이 폰트의 원하는 이름 설정\n",
    "fm.fontManager.ttflist.insert(0, fe)              # Matplotlib에 폰트 추가\n",
    "plt.rcParams.update({'font.size': 10, 'font.family': 'NanumBarunGothic'}) # 폰트 설정\n",
    "plt.rc('font', family='NanumBarunGothic')\n",
    "import seaborn as sns\n",
    "\n",
    "# utils\n",
    "import pandas as pd\n",
    "import numpy as np\n",
    "from tqdm import tqdm\n",
    "import pickle\n",
    "import warnings;warnings.filterwarnings('ignore')\n",
    "\n",
    "# Model\n",
    "from sklearn.preprocessing import LabelEncoder\n",
    "from sklearn.model_selection import train_test_split\n",
    "from sklearn.metrics import mean_squared_error\n",
    "from sklearn.ensemble import RandomForestRegressor\n",
    "from sklearn import metrics\n",
    "\n",
    "import eli5\n",
    "from eli5.sklearn import PermutationImportance"
   ]
  },
  {
   "cell_type": "code",
   "execution_count": null,
   "id": "3a99cb8d",
   "metadata": {},
   "outputs": [],
   "source": [
    "# 열 다 보이게 설정\n",
    "pd.set_option('display.max_columns', None)\n",
    "# 행 다 보이게 설정\n",
    "pd.set_option('display.max_rows', None)"
   ]
  },
  {
   "cell_type": "code",
   "execution_count": null,
   "id": "e1e82c45",
   "metadata": {},
   "outputs": [],
   "source": [
    "# 데이터 로드\n",
    "\n",
    "train_path = '/root/AI_STAGE/upstageailab-ml-competition-ml-2/1.Data/train.csv'\n",
    "test_path  = '/root/AI_STAGE/upstageailab-ml-competition-ml-2/1.Data/test.csv'\n",
    "train = pd.read_csv(train_path)\n",
    "test = pd.read_csv(test_path)"
   ]
  },
  {
   "cell_type": "code",
   "execution_count": null,
   "id": "f4dd6e45",
   "metadata": {},
   "outputs": [],
   "source": [
    "train.shape, test.shape"
   ]
  },
  {
   "cell_type": "code",
   "execution_count": null,
   "id": "f417b933",
   "metadata": {},
   "outputs": [],
   "source": [
    "train.info()"
   ]
  },
  {
   "cell_type": "code",
   "execution_count": null,
   "id": "90d43d8d",
   "metadata": {},
   "outputs": [],
   "source": [
    "# train/test 구분을 위한 칼럼(data)\n",
    "# train과 test를 하나의 데이터로 만들기\n",
    "\n",
    "train['data'] = 0\n",
    "test['data'] = 1\n",
    "concat = pd.concat([train, test])\n",
    "\n",
    "print(concat.shape)\n",
    "print(concat['data'].value_counts())"
   ]
  },
  {
   "cell_type": "code",
   "execution_count": null,
   "id": "cc02a4b2",
   "metadata": {},
   "outputs": [],
   "source": [
    "# 열 전체를 넣고 스캔하기\n",
    "train.info()\n",
    "for col in concat.columns:\n",
    "    nunique = concat[col].nunique(dropna=False)\n",
    "    missing_ratio = concat[col].isna().mean()\n",
    "    missing_count = concat[col].isnull().sum()\n",
    "    col_type = concat.dtypes[col]\n",
    "    print(f\"📌 {col:30} | 데이터타입: {col_type} | 고유값: {nunique:6} | 결측개수: {missing_count} | 결측률: {missing_ratio:.2%}\")"
   ]
  },
  {
   "cell_type": "code",
   "execution_count": null,
   "id": "959e0366",
   "metadata": {},
   "outputs": [],
   "source": [
    "# 결측치는 아닌데 의미 없는 형식적 값 찾기\n",
    "\n",
    "def detect_fake_nulls(df, suspect_values=['-', ' ', '', '.', '없음', 'nan']):\n",
    "    result = {}\n",
    "    for col in df.columns:\n",
    "        if concat[col].dtype == 'object':\n",
    "            val_counts = concat[col].value_counts(dropna=False)\n",
    "            found = val_counts[val_counts.index.isin(suspect_values)]\n",
    "            if not found.empty:\n",
    "                result[col] = found\n",
    "    return result\n",
    "\n",
    "fake_nulls = detect_fake_nulls(concat)\n",
    "for col, vals in fake_nulls.items():\n",
    "    print(f\"🔎 {col} 컬럼에서 의미 없는 값 발견:\")\n",
    "    print(vals)\n",
    "    print()"
   ]
  },
  {
   "cell_type": "code",
   "execution_count": null,
   "id": "071421af",
   "metadata": {},
   "outputs": [],
   "source": [
    "# 위 처럼 아무 의미도 갖지 않는 칼럼은 결측치와 같은 역할을 하므로, np.nan으로 채워 결측치로 인식되도록 합니다.\n",
    "concat['도로명'] = concat['도로명'].replace(' ', np.nan)\n",
    "concat['등기신청일자'] = concat['등기신청일자'].replace(' ', np.nan)\n",
    "concat['거래유형'] = concat['거래유형'].replace('-', np.nan)\n",
    "concat['중개사소재지'] = concat['중개사소재지'].replace('-', np.nan)\n",
    "concat['k-시행사'] = concat['k-시행사'].replace('.', np.nan)\n",
    "concat['k-시행사'] = concat['k-시행사'].replace('-', np.nan)\n",
    "concat['k-홈페이지'] = concat['k-홈페이지'].replace('없음', np.nan)\n",
    "concat['k-홈페이지'] = concat['k-홈페이지'].replace('.', np.nan)"
   ]
  },
  {
   "cell_type": "code",
   "execution_count": null,
   "id": "5af291c6",
   "metadata": {},
   "outputs": [],
   "source": [
    "# 변수별 결측치의 비율을 plot으로 그려보면 아래와 같습니다.\n",
    "fig = plt.figure(figsize=(13, 2))\n",
    "missing = concat.isnull().sum() / concat.shape[0]\n",
    "missing = missing[missing > 0]\n",
    "missing.sort_values(inplace=True)\n",
    "missing.plot.bar(color='orange')\n",
    "plt.title('변수별 결측치 비율')\n",
    "plt.show()"
   ]
  },
  {
   "cell_type": "code",
   "execution_count": null,
   "id": "e3d064d6",
   "metadata": {},
   "outputs": [],
   "source": [
    "# 결측치 90만개 이상인 값과 이하지만 필요없는 것 제외\n",
    "# 필요없어 보이는 것 : k-전화번호, k-팩스번호, 사용허가여부, 관리비 업로드, k-수정일자\n",
    "\n",
    "valid_cols = concat.columns[concat.isnull().sum() <= 900000]\n",
    "exclude_cols = ['k-전화번호', 'k-팩스번호', '사용허가여부', '관리비 업로드', 'k-수정일자']\n",
    "\n",
    "select = [col for col in valid_cols if col not in exclude_cols]\n",
    "concat_select = concat[select]\n",
    "\n",
    "concat.shape, concat_select.shape"
   ]
  },
  {
   "cell_type": "code",
   "execution_count": null,
   "id": "f69bea98",
   "metadata": {},
   "outputs": [],
   "source": [
    "def null_summary(df, columns):\n",
    "    result = pd.DataFrame({\n",
    "        '결측 개수': df[columns].isnull().sum(),\n",
    "        '결측 비율(%)': df[columns].isnull().mean() * 100\n",
    "    })\n",
    "    return result[result['결측 개수'] > 0].sort_values('결측 비율(%)', ascending=False)\n",
    "\n",
    "print(\"📊 연속형 변수 결측치 요약\")\n",
    "display(null_summary(concat_select, con_columns))\n",
    "\n",
    "print(\"📊 범주형 변수 결측치 요약\")\n",
    "display(null_summary(concat_select, cat_columns))\n"
   ]
  },
  {
   "cell_type": "code",
   "execution_count": null,
   "id": "b3990fb2",
   "metadata": {},
   "outputs": [],
   "source": [
    "# 결측치 탐지 및 처리 전 연속형 변수 상관관계 보기\n",
    "\n",
    "# 1. 수치형 변수만 선택\n",
    "numeric_cols = concat_select.select_dtypes(include=['float64', 'int64']).columns\n",
    "\n",
    "# 2. 상관관계 계산\n",
    "corr = concat_select[numeric_cols].corr()\n",
    "\n",
    "# 3. 시각화\n",
    "plt.figure(figsize=(12, 10))\n",
    "sns.heatmap(corr, annot=True, fmt=\".2f\", cmap='coolwarm', square=True)\n",
    "plt.title(\"📊 수치형 변수 간 상관관계\")\n",
    "plt.show()"
   ]
  },
  {
   "cell_type": "code",
   "execution_count": null,
   "id": "10a642e6",
   "metadata": {},
   "outputs": [],
   "source": [
    "#상관관계 기반으로 중복 feature 쌍 탐지 및 삭제 후보 추천\n",
    "\n",
    "# 연속형 변수만 추출\n",
    "numeric_cols = con_columns  # ← 너가 나눠둔 연속형 변수 리스트\n",
    "\n",
    "# 상관관계 행렬 (절댓값 기준)\n",
    "corr_matrix = concat_select[numeric_cols].corr().abs()\n",
    "\n",
    "# 상삼각 행렬로 중복 제거\n",
    "upper = corr_matrix.where(np.triu(np.ones(corr_matrix.shape), k=1).astype(bool))\n",
    "\n",
    "# 상관계수 0.9 초과인 변수쌍 추출\n",
    "high_corr_pairs = [(col, row, upper.loc[row, col])\n",
    "                   for col in upper.columns\n",
    "                   for row in upper.index\n",
    "                   if pd.notnull(upper.loc[row, col]) and upper.loc[row, col] > 0.7]\n",
    "\n",
    "# 출력\n",
    "for col1, col2, score in sorted(high_corr_pairs, key=lambda x: -x[2]):\n",
    "    print(f\"🔁 {col1} ↔ {col2} : 상관계수 = {score:.2f}\")\n"
   ]
  },
  {
   "cell_type": "code",
   "execution_count": null,
   "id": "598cadbb",
   "metadata": {},
   "outputs": [],
   "source": [
    "# 전용세대별면적 PCA 진행 및 상관관계 높은 변수 제거 후 데이터 살펴보기\n",
    "\n",
    "concat_select.head(1)"
   ]
  },
  {
   "cell_type": "code",
   "execution_count": null,
   "id": "60ecc9fb",
   "metadata": {},
   "outputs": [],
   "source": [
    "# 먼저, 연속형 변수와 범주형 변수를 위 info에 따라 분리해주겠습니다.\n",
    "# 숫자형 분리 pd.api.types.is_numeric_dtype\n",
    "con_columns2 = []\n",
    "cat_columns2 = []\n",
    "\n",
    "for column in concat_select.columns:\n",
    "    if pd.api.types.is_numeric_dtype(concat_select[column]):\n",
    "        con_columns2.append(column)\n",
    "    else:\n",
    "        cat_columns2.append(column)\n",
    "\n",
    "print(\"연속형 변수:\", con_columns2)\n",
    "print(\"범주형 변수:\", cat_columns2)\n",
    "\n",
    "def null_summary(df, columns):\n",
    "    result = pd.DataFrame({\n",
    "        '결측 개수': df[columns].isnull().sum(),\n",
    "        '결측 비율(%)': df[columns].isnull().mean() * 100\n",
    "    })\n",
    "    return result[result['결측 개수'] > 0].sort_values('결측 비율(%)', ascending=False)\n",
    "\n",
    "print(\"📊 연속형 변수 결측치 요약\")\n",
    "display(null_summary(concat_select, con_columns2))\n",
    "\n",
    "print(\"📊 범주형 변수 결측치 요약\")\n",
    "display(null_summary(concat_select, cat_columns2))\n"
   ]
  },
  {
   "cell_type": "code",
   "execution_count": null,
   "id": "a9663df6",
   "metadata": {},
   "outputs": [],
   "source": [
    "# 범주형 feature들 관계 보기\n",
    "\n",
    "from scipy.stats import chi2_contingency\n",
    "\n",
    "# Cramér's V 계산 함수\n",
    "def cramers_v(x, y):\n",
    "    confusion_matrix = pd.crosstab(x, y)\n",
    "    chi2 = chi2_contingency(confusion_matrix, correction=False)[0]\n",
    "    n = confusion_matrix.sum().sum()\n",
    "    phi2 = chi2 / n\n",
    "    r, k = confusion_matrix.shape\n",
    "    return np.sqrt(phi2 / min(k - 1, r - 1))\n",
    "\n",
    "# 범주형 변수 리스트\n",
    "cat_cols = cat_columns2  # 이미 나눈 리스트\n",
    "\n",
    "# 결과 저장용 매트릭스\n",
    "cramer_matrix = pd.DataFrame(index=cat_cols, columns=cat_cols)\n",
    "\n",
    "for col1 in cat_cols:\n",
    "    for col2 in cat_cols:\n",
    "        if col1 == col2:\n",
    "            cramer_matrix.loc[col1, col2] = 1.0\n",
    "        else:\n",
    "            try:\n",
    "                cramer_matrix.loc[col1, col2] = cramers_v(concat_select[col1], concat_select[col2])\n",
    "            except:\n",
    "                cramer_matrix.loc[col1, col2] = np.nan\n",
    "\n",
    "plt.figure(figsize=(14, 12))\n",
    "sns.heatmap(cramer_matrix.astype(float), cmap='coolwarm', annot=False)\n",
    "plt.title(\"범주형 변수 간 Cramér's V (상관관계 유사도)\")\n",
    "plt.show()\n"
   ]
  },
  {
   "cell_type": "code",
   "execution_count": null,
   "id": "163aa28a",
   "metadata": {},
   "outputs": [],
   "source": [
    "# 변주형 중 unique값이 낮은 것\n",
    "# 고유값이 적으면 다른 변수와 관계가 높을 수 있다고 함\n",
    "\n",
    "for col in cat_columns2:\n",
    "    print(f\"{col}: {concat_select[col].nunique()}\")\n"
   ]
  },
  {
   "cell_type": "code",
   "execution_count": null,
   "id": "2465b5d2",
   "metadata": {},
   "outputs": [],
   "source": [
    "threshold = 0.8\n",
    "high_corr_pairs = []\n",
    "\n",
    "for i in range(len(cat_cols)):\n",
    "    for j in range(i + 1, len(cat_cols)):\n",
    "        col1, col2 = cat_cols[i], cat_cols[j]\n",
    "        val = cramer_matrix.loc[col1, col2]\n",
    "        if pd.notnull(val) and float(val) >= threshold:\n",
    "            high_corr_pairs.append((col1, col2, float(val)))\n",
    "\n",
    "for col1, col2, score in sorted(high_corr_pairs, key=lambda x: -x[2]):\n",
    "    print(f\"🔁 {col1} ↔ {col2} : Cramér's V = {score:.2f}\")\n"
   ]
  },
  {
   "cell_type": "code",
   "execution_count": null,
   "id": "504902c7",
   "metadata": {},
   "outputs": [],
   "source": [
    "# 이상치 탐색\n",
    "\n",
    "def detect_outliers_iqr(df, columns, iqr_scale=1.5):\n",
    "    outlier_summary = []\n",
    "\n",
    "    for col in columns:\n",
    "        if df[col].isnull().all():\n",
    "            continue\n",
    "\n",
    "        Q1 = df[col].quantile(0.25)\n",
    "        Q3 = df[col].quantile(0.75)\n",
    "        IQR = Q3 - Q1\n",
    "        lower_bound = Q1 - iqr_scale * IQR\n",
    "        upper_bound = Q3 + iqr_scale * IQR\n",
    "\n",
    "        outliers = df[(df[col] < lower_bound) | (df[col] > upper_bound)]\n",
    "        outlier_count = outliers.shape[0]\n",
    "        outlier_ratio = outlier_count / df.shape[0] * 100\n",
    "\n",
    "        outlier_summary.append({\n",
    "            '변수': col,\n",
    "            '이상치 개수': outlier_count,\n",
    "            '이상치 비율(%)': round(outlier_ratio, 2)\n",
    "        })\n",
    "\n",
    "    return pd.DataFrame(outlier_summary).sort_values('이상치 비율(%)', ascending=False)\n"
   ]
  },
  {
   "cell_type": "code",
   "execution_count": null,
   "id": "6c80f9a8",
   "metadata": {},
   "outputs": [],
   "source": [
    "# 이상치 비율 상위 5개 변수 추출\n",
    "top_outlier_cols = outlier_df['변수'].head(5)\n",
    "\n",
    "# Boxplot 시각화\n",
    "plt.figure(figsize=(15, 8))\n",
    "for i, col in enumerate(top_outlier_cols, 1):\n",
    "    plt.subplot(2, 3, i)\n",
    "    sns.boxplot(x=train_data[col])\n",
    "    plt.title(col)\n",
    "\n",
    "plt.tight_layout()\n",
    "plt.show()\n"
   ]
  }
 ],
 "metadata": {
  "language_info": {
   "name": "python"
  }
 },
 "nbformat": 4,
 "nbformat_minor": 5
}
